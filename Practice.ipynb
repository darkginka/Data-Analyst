{
  "nbformat": 4,
  "nbformat_minor": 0,
  "metadata": {
    "colab": {
      "name": "Practice.ipynb",
      "provenance": [],
      "collapsed_sections": [],
      "authorship_tag": "ABX9TyNgj8zTmbpSJFVgsiB0/rZd",
      "include_colab_link": true
    },
    "kernelspec": {
      "name": "python3",
      "display_name": "Python 3"
    },
    "language_info": {
      "name": "python"
    }
  },
  "cells": [
    {
      "cell_type": "markdown",
      "metadata": {
        "id": "view-in-github",
        "colab_type": "text"
      },
      "source": [
        "<a href=\"https://colab.research.google.com/github/darkginka/Data-Analyst/blob/main/Practice.ipynb\" target=\"_parent\"><img src=\"https://colab.research.google.com/assets/colab-badge.svg\" alt=\"Open In Colab\"/></a>"
      ]
    },
    {
      "cell_type": "code",
      "source": [
        "def how_many_times(n):\n",
        "  count = 0\n",
        "  while True:\n",
        "    smallno = int(\"\".join(sorted([i for i in str(n)])))\n",
        "    bigno = int(\"\".join(sorted([j for j in str(n)], reverse=True)))\n",
        "    division = bigno-smallno\n",
        "    count = count+1\n",
        "    if division==n:\n",
        "      return count-1\n",
        "    else:\n",
        "      n = division\n",
        "  return count\n",
        "\n",
        "how_many_times(9831)"
      ],
      "metadata": {
        "colab": {
          "base_uri": "https://localhost:8080/"
        },
        "id": "5Gnt8NaLwJ6v",
        "outputId": "7c2b4d08-2900-4cc5-a359-b7e598a4ef64"
      },
      "execution_count": null,
      "outputs": [
        {
          "output_type": "execute_result",
          "data": {
            "text/plain": [
              "7"
            ]
          },
          "metadata": {},
          "execution_count": 16
        }
      ]
    },
    {
      "cell_type": "code",
      "source": [
        "def pattern(n):\n",
        "    for i in range(n):\n",
        "        for j in range(n):\n",
        "          if(i==0 or j==0 or i==n-1  or j==n-1 or i==j or j==n-i-1):\n",
        "            print(\"#\",end=\" \")\n",
        "          else:\n",
        "            print(\" \",end=\" \")\n",
        "        print(\"\")\n",
        "\n",
        "n= int(input(\"Enter The Number: \"))\n",
        "\n",
        "if(n<=2):\n",
        "  print(\"Number is greater than 2\")\n",
        "elif(n%2==0):\n",
        "  print(\"Enter Odd Number !!\")\n",
        "else:\n",
        "  pattern(n)"
      ],
      "metadata": {
        "colab": {
          "base_uri": "https://localhost:8080/"
        },
        "id": "ZiNsVzKbwJu_",
        "outputId": "6e5e0bba-d0d7-481e-ff6a-24e45fca29fe"
      },
      "execution_count": null,
      "outputs": [
        {
          "output_type": "stream",
          "name": "stdout",
          "text": [
            "Enter The Number: 5\n",
            "# # # # # \n",
            "# #   # # \n",
            "#   #   # \n",
            "# #   # # \n",
            "# # # # # \n"
          ]
        }
      ]
    },
    {
      "cell_type": "code",
      "source": [
        "lst=[1,2,4,8,10,11,16,20]\n",
        "m=[]\n",
        "for i in range(1,len(lst)):\n",
        "  m.append(lst[i]-lst[i-1])\n",
        "\n",
        "m"
      ],
      "metadata": {
        "colab": {
          "base_uri": "https://localhost:8080/"
        },
        "id": "QQ6m1ghjwJDW",
        "outputId": "5b33ebe7-03c3-4f04-bfbc-911abd34ef63"
      },
      "execution_count": null,
      "outputs": [
        {
          "output_type": "execute_result",
          "data": {
            "text/plain": [
              "[1, 2, 4, 2, 1, 5, 4]"
            ]
          },
          "metadata": {},
          "execution_count": 18
        }
      ]
    },
    {
      "cell_type": "code",
      "source": [
        "s=\"07:05:45PM\"\n",
        "s.endswith(\"PM\")\n",
        "time = s.replace(\"PM\",\"\")\n",
        "hr = time.split(\":\",1)\n",
        "M = int(hr[0])+12\n",
        "print(str(M)+\":\"+hr[1])"
      ],
      "metadata": {
        "colab": {
          "base_uri": "https://localhost:8080/"
        },
        "id": "pLDF36TBwUUC",
        "outputId": "4d417f0f-3a81-48aa-8624-591ef6b787b0"
      },
      "execution_count": null,
      "outputs": [
        {
          "output_type": "stream",
          "name": "stdout",
          "text": [
            "19:05:45\n"
          ]
        }
      ]
    },
    {
      "cell_type": "code",
      "source": [
        "# if __name__ == '__main__':\n",
        "#     n = int(input())\n",
        "#     student_marks = {}\n",
        "#     for i in range(n):\n",
        "#         line = input().split()\n",
        "#         name, scores = line[0], line[1:]\n",
        "#         scores = map(float, scores)\n",
        "#         student_marks[name] = scores\n",
        "#     query_name =input()\n",
        "#     l1 = student_marks[query_name]\n",
        "#     total=0\n",
        "#     for j in range(len(l1)):\n",
        "#         total = total + l1[j]\n",
        "#     print(str(total/len(l1))+\"0\")"
      ],
      "metadata": {
        "id": "MNV3RoZawgMG"
      },
      "execution_count": null,
      "outputs": []
    },
    {
      "cell_type": "markdown",
      "source": [
        "**Numpy**"
      ],
      "metadata": {
        "id": "1Yf93y0PPPCM"
      }
    },
    {
      "cell_type": "code",
      "execution_count": null,
      "metadata": {
        "id": "O8WzUj9aSVdK"
      },
      "outputs": [],
      "source": [
        "import numpy as np"
      ]
    },
    {
      "cell_type": "code",
      "source": [
        "myList=[1,2,3]\n",
        "my1dArray= np.array(myList)\n",
        "myMatrix=[[1,2,3],[4,5,6],[7,8,9]]\n",
        "my2dArray= np.array(myMatrix)"
      ],
      "metadata": {
        "id": "gn3Pw6cEUsuC"
      },
      "execution_count": null,
      "outputs": []
    },
    {
      "cell_type": "code",
      "source": [
        "np.arange(0,11,2)\n",
        "np.zeros((5,5))\n",
        "np.ones((5,5))\n",
        "np.eye(5)\n",
        "np.linspace(1,10,2)\n",
        "np.random.random(5)\n",
        "np.random.rand(5,6)\n",
        "np.random.randn(5,6)\n",
        "np.random.randint(1,100,5)"
      ],
      "metadata": {
        "id": "93YDtfnDShmS",
        "colab": {
          "base_uri": "https://localhost:8080/"
        },
        "outputId": "aff15098-c676-403f-993f-c0f821fabb1a"
      },
      "execution_count": null,
      "outputs": [
        {
          "output_type": "execute_result",
          "data": {
            "text/plain": [
              "array([53, 71,  8, 23,  6])"
            ]
          },
          "metadata": {},
          "execution_count": 23
        }
      ]
    },
    {
      "cell_type": "code",
      "source": [
        "arr=np.arange(1,25)\n",
        "arr.reshape(4,6)\n",
        "arr.shape\n",
        "arr.min()\n",
        "arr.argmin()"
      ],
      "metadata": {
        "id": "V4_RyznYUx-W",
        "colab": {
          "base_uri": "https://localhost:8080/"
        },
        "outputId": "32b8b72d-cd5a-4aa0-8705-ea416e4e772a"
      },
      "execution_count": null,
      "outputs": [
        {
          "output_type": "execute_result",
          "data": {
            "text/plain": [
              "0"
            ]
          },
          "metadata": {},
          "execution_count": 24
        }
      ]
    },
    {
      "cell_type": "markdown",
      "source": [
        "**Pandas**"
      ],
      "metadata": {
        "id": "ttKgjZCyPYAP"
      }
    },
    {
      "cell_type": "code",
      "source": [
        "import pandas as pd"
      ],
      "metadata": {
        "id": "6oqJ8aJyIyx5"
      },
      "execution_count": null,
      "outputs": []
    },
    {
      "cell_type": "code",
      "source": [
        "help(pd.Series)"
      ],
      "metadata": {
        "id": "9Amqq85NPc8V"
      },
      "execution_count": null,
      "outputs": []
    },
    {
      "cell_type": "code",
      "source": [
        "myData=[1999,2000,1884]\n",
        "myIndex=[\"Rohan\",\"Sneha\",\"Lalu\"]"
      ],
      "metadata": {
        "id": "0tBDdEg0T0a6"
      },
      "execution_count": null,
      "outputs": []
    },
    {
      "cell_type": "code",
      "source": [
        "mySeries= pd.Series(data=myData,index=myIndex)\n",
        "# mySeries= pd.Series(myData,myIndex)\n",
        "mySeries"
      ],
      "metadata": {
        "id": "x-mCtDxXUP2L",
        "colab": {
          "base_uri": "https://localhost:8080/"
        },
        "outputId": "6c99791c-dd16-4ba6-87fb-412572b61218"
      },
      "execution_count": null,
      "outputs": [
        {
          "output_type": "execute_result",
          "data": {
            "text/plain": [
              "Rohan    1999\n",
              "Sneha    2000\n",
              "Lalu     1884\n",
              "dtype: int64"
            ]
          },
          "metadata": {},
          "execution_count": 28
        }
      ]
    },
    {
      "cell_type": "code",
      "source": [
        "mySeries[0]\n",
        "# mySeries[\"Rohan\"]"
      ],
      "metadata": {
        "id": "_V7rdwa2Upsv",
        "colab": {
          "base_uri": "https://localhost:8080/"
        },
        "outputId": "8a853f56-6022-4dda-9cc3-e06cec44eaf0"
      },
      "execution_count": null,
      "outputs": [
        {
          "output_type": "execute_result",
          "data": {
            "text/plain": [
              "1999"
            ]
          },
          "metadata": {},
          "execution_count": 29
        }
      ]
    },
    {
      "cell_type": "code",
      "source": [
        "alcohol={'breezer':130,'Old Monk':80,'Rio':35}\n",
        "pd.Series(alcohol)"
      ],
      "metadata": {
        "id": "xTXuMWsgVUNd",
        "colab": {
          "base_uri": "https://localhost:8080/"
        },
        "outputId": "6235ccc3-35ca-45d4-cbfd-7cb6115a0416"
      },
      "execution_count": null,
      "outputs": [
        {
          "output_type": "execute_result",
          "data": {
            "text/plain": [
              "breezer     130\n",
              "Old Monk     80\n",
              "Rio          35\n",
              "dtype: int64"
            ]
          },
          "metadata": {},
          "execution_count": 30
        }
      ]
    },
    {
      "cell_type": "code",
      "source": [
        ""
      ],
      "metadata": {
        "id": "o0GhM54xV40L"
      },
      "execution_count": null,
      "outputs": []
    }
  ]
}