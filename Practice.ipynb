{
  "nbformat": 4,
  "nbformat_minor": 0,
  "metadata": {
    "colab": {
      "name": "Practice.ipynb",
      "provenance": [],
      "collapsed_sections": [],
      "authorship_tag": "ABX9TyMiXuPO1zw8T43bZEpiCnek",
      "include_colab_link": true
    },
    "kernelspec": {
      "name": "python3",
      "display_name": "Python 3"
    },
    "language_info": {
      "name": "python"
    }
  },
  "cells": [
    {
      "cell_type": "markdown",
      "metadata": {
        "id": "view-in-github",
        "colab_type": "text"
      },
      "source": [
        "<a href=\"https://colab.research.google.com/github/darkginka/Data-Analyst/blob/main/Practice.ipynb\" target=\"_parent\"><img src=\"https://colab.research.google.com/assets/colab-badge.svg\" alt=\"Open In Colab\"/></a>"
      ]
    },
    {
      "cell_type": "markdown",
      "source": [
        "**Numpy**"
      ],
      "metadata": {
        "id": "1Yf93y0PPPCM"
      }
    },
    {
      "cell_type": "code",
      "execution_count": null,
      "metadata": {
        "id": "O8WzUj9aSVdK"
      },
      "outputs": [],
      "source": [
        "import numpy as np"
      ]
    },
    {
      "cell_type": "code",
      "source": [
        "myList=[1,2,3]\n",
        "my1dArray= np.array(myList)\n",
        "myMatrix=[[1,2,3],[4,5,6],[7,8,9]]\n",
        "my2dArray= np.array(myMatrix)"
      ],
      "metadata": {
        "id": "gn3Pw6cEUsuC"
      },
      "execution_count": null,
      "outputs": []
    },
    {
      "cell_type": "code",
      "source": [
        "np.arange(0,11,2)\n",
        "np.zeros((5,5))\n",
        "np.ones((5,5))\n",
        "np.eye(5)\n",
        "np.linspace(1,10,2)\n",
        "np.random.random(5,6)\n",
        "np.random.rand(5,6)\n",
        "np.random.randn(5,6)\n",
        "np.random.randint(1,100,5)"
      ],
      "metadata": {
        "id": "93YDtfnDShmS"
      },
      "execution_count": null,
      "outputs": []
    },
    {
      "cell_type": "code",
      "source": [
        "arr=np.arange(1,25)\n",
        "arr.reshape(4,6)\n",
        "arr.shape\n",
        "arr.min()\n",
        "arr.argmin()"
      ],
      "metadata": {
        "id": "V4_RyznYUx-W"
      },
      "execution_count": null,
      "outputs": []
    },
    {
      "cell_type": "markdown",
      "source": [
        "**Pandas**"
      ],
      "metadata": {
        "id": "ttKgjZCyPYAP"
      }
    },
    {
      "cell_type": "code",
      "source": [
        "import pandas as pd"
      ],
      "metadata": {
        "id": "6oqJ8aJyIyx5"
      },
      "execution_count": null,
      "outputs": []
    },
    {
      "cell_type": "code",
      "source": [
        "help(pd.Series)"
      ],
      "metadata": {
        "id": "9Amqq85NPc8V"
      },
      "execution_count": null,
      "outputs": []
    },
    {
      "cell_type": "code",
      "source": [
        "myData=[1999,2000,1884]\n",
        "myIndex=[\"Rohan\",\"Sneha\",\"Lalu\"]"
      ],
      "metadata": {
        "id": "0tBDdEg0T0a6"
      },
      "execution_count": null,
      "outputs": []
    },
    {
      "cell_type": "code",
      "source": [
        "mySeries= pd.Series(data=myData,index=myIndex)\n",
        "# mySeries= pd.Series(myData,myIndex)\n",
        "mySeries"
      ],
      "metadata": {
        "id": "x-mCtDxXUP2L"
      },
      "execution_count": null,
      "outputs": []
    },
    {
      "cell_type": "code",
      "source": [
        "mySeries[0]\n",
        "# mySeries[\"Rohan\"]"
      ],
      "metadata": {
        "id": "_V7rdwa2Upsv"
      },
      "execution_count": null,
      "outputs": []
    },
    {
      "cell_type": "code",
      "source": [
        "alcohol={'breezer':130,'Old Monk':80,'Rio':35}\n",
        "pd.Series(alcohol)"
      ],
      "metadata": {
        "id": "xTXuMWsgVUNd"
      },
      "execution_count": null,
      "outputs": []
    },
    {
      "cell_type": "code",
      "source": [
        ""
      ],
      "metadata": {
        "id": "o0GhM54xV40L"
      },
      "execution_count": null,
      "outputs": []
    }
  ]
}